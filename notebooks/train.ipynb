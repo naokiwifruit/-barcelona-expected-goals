{
 "cells": [
  {
   "cell_type": "code",
   "execution_count": 1,
   "metadata": {},
   "outputs": [],
   "source": [
    "import numpy as np\n",
    "import pandas as pd\n",
    "import matplotlib.pyplot as plt"
   ]
  },
  {
   "cell_type": "code",
   "execution_count": 2,
   "metadata": {},
   "outputs": [],
   "source": [
    "# read shot data on FC Barcelona\n",
    "shots = pd.read_csv('../data/input/shots.csv')"
   ]
  },
  {
   "cell_type": "code",
   "execution_count": 3,
   "metadata": {},
   "outputs": [
    {
     "data": {
      "text/html": [
       "<div>\n",
       "<style scoped>\n",
       "    .dataframe tbody tr th:only-of-type {\n",
       "        vertical-align: middle;\n",
       "    }\n",
       "\n",
       "    .dataframe tbody tr th {\n",
       "        vertical-align: top;\n",
       "    }\n",
       "\n",
       "    .dataframe thead th {\n",
       "        text-align: right;\n",
       "    }\n",
       "</style>\n",
       "<table border=\"1\" class=\"dataframe\">\n",
       "  <thead>\n",
       "    <tr style=\"text-align: right;\">\n",
       "      <th></th>\n",
       "      <th>season</th>\n",
       "      <th>match_date</th>\n",
       "      <th>period</th>\n",
       "      <th>timestamp</th>\n",
       "      <th>team</th>\n",
       "      <th>player</th>\n",
       "      <th>play_pattern</th>\n",
       "      <th>under_pressure</th>\n",
       "      <th>body_part</th>\n",
       "      <th>type</th>\n",
       "      <th>...</th>\n",
       "      <th>first_time</th>\n",
       "      <th>one_on_one</th>\n",
       "      <th>open_goal</th>\n",
       "      <th>key_pass_id</th>\n",
       "      <th>start_location_x</th>\n",
       "      <th>start_location_y</th>\n",
       "      <th>distance</th>\n",
       "      <th>angle</th>\n",
       "      <th>goal</th>\n",
       "      <th>statsbomb_xg</th>\n",
       "    </tr>\n",
       "  </thead>\n",
       "  <tbody>\n",
       "    <tr>\n",
       "      <td>0</td>\n",
       "      <td>2004/2005</td>\n",
       "      <td>2004-12-11</td>\n",
       "      <td>1</td>\n",
       "      <td>00:01:21.354</td>\n",
       "      <td>Barcelona</td>\n",
       "      <td>Andrés Iniesta Luján</td>\n",
       "      <td>Regular Play</td>\n",
       "      <td>0</td>\n",
       "      <td>Foot</td>\n",
       "      <td>Open Play</td>\n",
       "      <td>...</td>\n",
       "      <td>0</td>\n",
       "      <td>1</td>\n",
       "      <td>0</td>\n",
       "      <td>NaN</td>\n",
       "      <td>112.4</td>\n",
       "      <td>51.6</td>\n",
       "      <td>13.867949</td>\n",
       "      <td>19.025606</td>\n",
       "      <td>1</td>\n",
       "      <td>0.216037</td>\n",
       "    </tr>\n",
       "    <tr>\n",
       "      <td>1</td>\n",
       "      <td>2004/2005</td>\n",
       "      <td>2004-12-11</td>\n",
       "      <td>1</td>\n",
       "      <td>00:18:01.782</td>\n",
       "      <td>Barcelona</td>\n",
       "      <td>Samuel Eto\"o Fils</td>\n",
       "      <td>From Counter</td>\n",
       "      <td>0</td>\n",
       "      <td>Foot</td>\n",
       "      <td>Open Play</td>\n",
       "      <td>...</td>\n",
       "      <td>0</td>\n",
       "      <td>0</td>\n",
       "      <td>0</td>\n",
       "      <td>7422812b-baf5-4b0c-b031-60c5b46af2e5</td>\n",
       "      <td>114.4</td>\n",
       "      <td>59.1</td>\n",
       "      <td>19.904020</td>\n",
       "      <td>6.720854</td>\n",
       "      <td>0</td>\n",
       "      <td>0.019257</td>\n",
       "    </tr>\n",
       "    <tr>\n",
       "      <td>2</td>\n",
       "      <td>2004/2005</td>\n",
       "      <td>2004-12-11</td>\n",
       "      <td>1</td>\n",
       "      <td>00:27:39.854</td>\n",
       "      <td>Barcelona</td>\n",
       "      <td>Rafael Márquez Álvarez</td>\n",
       "      <td>From Free Kick</td>\n",
       "      <td>0</td>\n",
       "      <td>Foot</td>\n",
       "      <td>Open Play</td>\n",
       "      <td>...</td>\n",
       "      <td>1</td>\n",
       "      <td>0</td>\n",
       "      <td>0</td>\n",
       "      <td>52b7356b-94b1-40ef-9de3-5b015011ac77</td>\n",
       "      <td>115.1</td>\n",
       "      <td>31.7</td>\n",
       "      <td>9.638465</td>\n",
       "      <td>27.010346</td>\n",
       "      <td>0</td>\n",
       "      <td>0.166539</td>\n",
       "    </tr>\n",
       "    <tr>\n",
       "      <td>3</td>\n",
       "      <td>2004/2005</td>\n",
       "      <td>2004-12-11</td>\n",
       "      <td>1</td>\n",
       "      <td>00:41:13.993</td>\n",
       "      <td>Barcelona</td>\n",
       "      <td>Xavier Hernández Creus</td>\n",
       "      <td>From Free Kick</td>\n",
       "      <td>0</td>\n",
       "      <td>Foot</td>\n",
       "      <td>Open Play</td>\n",
       "      <td>...</td>\n",
       "      <td>1</td>\n",
       "      <td>0</td>\n",
       "      <td>0</td>\n",
       "      <td>NaN</td>\n",
       "      <td>93.4</td>\n",
       "      <td>39.9</td>\n",
       "      <td>26.600188</td>\n",
       "      <td>17.103428</td>\n",
       "      <td>0</td>\n",
       "      <td>0.017750</td>\n",
       "    </tr>\n",
       "    <tr>\n",
       "      <td>4</td>\n",
       "      <td>2004/2005</td>\n",
       "      <td>2004-12-11</td>\n",
       "      <td>1</td>\n",
       "      <td>00:41:53.356</td>\n",
       "      <td>Barcelona</td>\n",
       "      <td>Anderson Luís de Souza</td>\n",
       "      <td>From Keeper</td>\n",
       "      <td>0</td>\n",
       "      <td>Foot</td>\n",
       "      <td>Open Play</td>\n",
       "      <td>...</td>\n",
       "      <td>0</td>\n",
       "      <td>0</td>\n",
       "      <td>0</td>\n",
       "      <td>e3ab31a8-bdd8-4846-9483-e25f05c802f7</td>\n",
       "      <td>96.5</td>\n",
       "      <td>49.4</td>\n",
       "      <td>25.310275</td>\n",
       "      <td>16.751155</td>\n",
       "      <td>0</td>\n",
       "      <td>0.043860</td>\n",
       "    </tr>\n",
       "  </tbody>\n",
       "</table>\n",
       "<p>5 rows × 21 columns</p>\n",
       "</div>"
      ],
      "text/plain": [
       "      season  match_date  period     timestamp       team  \\\n",
       "0  2004/2005  2004-12-11       1  00:01:21.354  Barcelona   \n",
       "1  2004/2005  2004-12-11       1  00:18:01.782  Barcelona   \n",
       "2  2004/2005  2004-12-11       1  00:27:39.854  Barcelona   \n",
       "3  2004/2005  2004-12-11       1  00:41:13.993  Barcelona   \n",
       "4  2004/2005  2004-12-11       1  00:41:53.356  Barcelona   \n",
       "\n",
       "                   player    play_pattern  under_pressure body_part  \\\n",
       "0    Andrés Iniesta Luján    Regular Play               0      Foot   \n",
       "1       Samuel Eto\"o Fils    From Counter               0      Foot   \n",
       "2  Rafael Márquez Álvarez  From Free Kick               0      Foot   \n",
       "3  Xavier Hernández Creus  From Free Kick               0      Foot   \n",
       "4  Anderson Luís de Souza     From Keeper               0      Foot   \n",
       "\n",
       "        type  ... first_time  one_on_one  open_goal  \\\n",
       "0  Open Play  ...          0           1          0   \n",
       "1  Open Play  ...          0           0          0   \n",
       "2  Open Play  ...          1           0          0   \n",
       "3  Open Play  ...          1           0          0   \n",
       "4  Open Play  ...          0           0          0   \n",
       "\n",
       "                            key_pass_id start_location_x  start_location_y  \\\n",
       "0                                   NaN            112.4              51.6   \n",
       "1  7422812b-baf5-4b0c-b031-60c5b46af2e5            114.4              59.1   \n",
       "2  52b7356b-94b1-40ef-9de3-5b015011ac77            115.1              31.7   \n",
       "3                                   NaN             93.4              39.9   \n",
       "4  e3ab31a8-bdd8-4846-9483-e25f05c802f7             96.5              49.4   \n",
       "\n",
       "    distance      angle  goal  statsbomb_xg  \n",
       "0  13.867949  19.025606     1      0.216037  \n",
       "1  19.904020   6.720854     0      0.019257  \n",
       "2   9.638465  27.010346     0      0.166539  \n",
       "3  26.600188  17.103428     0      0.017750  \n",
       "4  25.310275  16.751155     0      0.043860  \n",
       "\n",
       "[5 rows x 21 columns]"
      ]
     },
     "execution_count": 3,
     "metadata": {},
     "output_type": "execute_result"
    }
   ],
   "source": [
    "shots.head()"
   ]
  },
  {
   "cell_type": "code",
   "execution_count": 4,
   "metadata": {},
   "outputs": [
    {
     "name": "stdout",
     "output_type": "stream",
     "text": [
      "==============================\n",
      "shots : info\n",
      "==============================\n",
      "<class 'pandas.core.frame.DataFrame'>\n",
      "RangeIndex: 7225 entries, 0 to 7224\n",
      "Data columns (total 21 columns):\n",
      "season              7225 non-null object\n",
      "match_date          7225 non-null object\n",
      "period              7225 non-null int64\n",
      "timestamp           7225 non-null object\n",
      "team                7225 non-null object\n",
      "player              7225 non-null object\n",
      "play_pattern        7225 non-null object\n",
      "under_pressure      7225 non-null int64\n",
      "body_part           7225 non-null object\n",
      "type                7225 non-null object\n",
      "technique           7225 non-null object\n",
      "first_time          7225 non-null int64\n",
      "one_on_one          7225 non-null int64\n",
      "open_goal           7225 non-null int64\n",
      "key_pass_id         5183 non-null object\n",
      "start_location_x    7225 non-null float64\n",
      "start_location_y    7225 non-null float64\n",
      "distance            7225 non-null float64\n",
      "angle               7225 non-null float64\n",
      "goal                7225 non-null int64\n",
      "statsbomb_xg        7225 non-null float64\n",
      "dtypes: float64(5), int64(6), object(10)\n",
      "memory usage: 1.2+ MB\n"
     ]
    }
   ],
   "source": [
    "# print a summary of shot data\n",
    "print(\"==============================\")\n",
    "print(f\"shots : info\")\n",
    "print(\"==============================\")\n",
    "shots.info()"
   ]
  },
  {
   "cell_type": "code",
   "execution_count": 5,
   "metadata": {},
   "outputs": [],
   "source": [
    "# select features\n",
    "cat_features =  ['play_pattern', 'under_pressure', 'body_part', 'type', 'technique', 'first_time', 'one_on_one', 'open_goal'] # カテゴリカル変数\n",
    "num_features = ['distance', 'angle'] # 連続変数"
   ]
  },
  {
   "cell_type": "code",
   "execution_count": 6,
   "metadata": {},
   "outputs": [],
   "source": [
    "# split into features and label\n",
    "X = shots.loc[:, cat_features + num_features]\n",
    "y = shots['goal']"
   ]
  },
  {
   "cell_type": "code",
   "execution_count": 7,
   "metadata": {},
   "outputs": [],
   "source": [
    "from category_encoders import OrdinalEncoder\n",
    "\n",
    "# encodes categorical features as ordered feature\n",
    "oe = OrdinalEncoder(cols=cat_features)\n",
    "X = oe.fit_transform(X)"
   ]
  },
  {
   "cell_type": "code",
   "execution_count": 8,
   "metadata": {},
   "outputs": [],
   "source": [
    "# train-test splitting\n",
    "num_test = len(shots[shots['season']=='2018/2019']) # number of 18/19 season data\n",
    "# train: 04/05 - 16/17 season\n",
    "X_train = X.iloc[:-num_test]\n",
    "y_train = y.iloc[:-num_test]\n",
    "# test: 18/19 season\n",
    "X_test = X.iloc[-num_test:]\n",
    "y_test = y.iloc[-num_test:]"
   ]
  },
  {
   "cell_type": "code",
   "execution_count": 9,
   "metadata": {},
   "outputs": [
    {
     "name": "stdout",
     "output_type": "stream",
     "text": [
      "Fitting 5 folds for each of 1280 candidates, totalling 6400 fits\n"
     ]
    },
    {
     "name": "stderr",
     "output_type": "stream",
     "text": [
      "[Parallel(n_jobs=-1)]: Using backend LokyBackend with 12 concurrent workers.\n",
      "[Parallel(n_jobs=-1)]: Done  17 tasks      | elapsed:    2.2s\n",
      "[Parallel(n_jobs=-1)]: Done 207 tasks      | elapsed:    3.5s\n",
      "[Parallel(n_jobs=-1)]: Done 613 tasks      | elapsed:    6.4s\n",
      "[Parallel(n_jobs=-1)]: Done 1179 tasks      | elapsed:   10.3s\n",
      "[Parallel(n_jobs=-1)]: Done 1909 tasks      | elapsed:   15.8s\n",
      "[Parallel(n_jobs=-1)]: Done 2799 tasks      | elapsed:   24.0s\n",
      "[Parallel(n_jobs=-1)]: Done 3853 tasks      | elapsed:   35.4s\n",
      "[Parallel(n_jobs=-1)]: Done 5067 tasks      | elapsed:   49.8s\n"
     ]
    },
    {
     "name": "stdout",
     "output_type": "stream",
     "text": [
      "best parameters {'max_depth': 3, 'min_child_weight': 2, 'num_leaves': 10, 'reg_alpha': 0, 'reg_lambda': 10}\n",
      "best log loss: -0.3615977432125434\n"
     ]
    },
    {
     "name": "stderr",
     "output_type": "stream",
     "text": [
      "[Parallel(n_jobs=-1)]: Done 6377 out of 6400 | elapsed:  1.1min remaining:    0.1s\n",
      "[Parallel(n_jobs=-1)]: Done 6400 out of 6400 | elapsed:  1.1min finished\n"
     ]
    }
   ],
   "source": [
    "import lightgbm as lgbm\n",
    "from sklearn.model_selection import GridSearchCV\n",
    "\n",
    "# define LightGBM model\n",
    "lightgbm = lgbm.LGBMClassifier(objective='binary', random_state=0)\n",
    "\n",
    "# candidates of parameter values\n",
    "params = {\n",
    "          'num_leaves': [10, 31, 50, 70],\n",
    "          'max_depth': [3, 5, 7, 9],\n",
    "          'min_child_weight': [1, 2, 3, 4, 5],\n",
    "          'reg_alpha': [0, 1, 10, 100],\n",
    "          'reg_lambda': [0, 1, 10, 100], \n",
    "          }\n",
    "\n",
    "# grid searching\n",
    "gscv = GridSearchCV(estimator=lightgbm, \n",
    "                    param_grid=params, \n",
    "                    scoring='neg_log_loss',\n",
    "                    cv=5, \n",
    "                    n_jobs=-1,\n",
    "                    verbose=2,\n",
    "                    )\n",
    "gscv.fit(X_train, y_train)\n",
    "\n",
    "# print results\n",
    "print('best parameters', gscv.best_params_)\n",
    "print('best log loss:', gscv.best_score_)"
   ]
  },
  {
   "cell_type": "code",
   "execution_count": 10,
   "metadata": {},
   "outputs": [
    {
     "data": {
      "text/plain": [
       "<matplotlib.axes._subplots.AxesSubplot at 0x2033d75a388>"
      ]
     },
     "execution_count": 10,
     "metadata": {},
     "output_type": "execute_result"
    },
    {
     "data": {
      "image/png": "[encoded data removed]",
      "text/plain": [
       "<Figure size 432x288 with 1 Axes>"
      ]
     },
     "metadata": {
      "needs_background": "light"
     },
     "output_type": "display_data"
    }
   ],
   "source": [
    "# plot feature importance\n",
    "lgbm.plot_importance(gscv.best_estimator_)"
   ]
  },
  {
   "cell_type": "code",
   "execution_count": 11,
   "metadata": {},
   "outputs": [
    {
     "name": "stdout",
     "output_type": "stream",
     "text": [
      "Fold 1\n",
      "Training until validation scores don't improve for 20 rounds\n",
      "Early stopping, best iteration is:\n",
      "[37]\tvalid_0's binary_logloss: 0.381716\n",
      "\n",
      "Fold 2\n",
      "Training until validation scores don't improve for 20 rounds\n",
      "Early stopping, best iteration is:\n",
      "[82]\tvalid_0's binary_logloss: 0.365958\n",
      "\n",
      "Fold 3\n",
      "Training until validation scores don't improve for 20 rounds\n",
      "Early stopping, best iteration is:\n",
      "[110]\tvalid_0's binary_logloss: 0.344967\n",
      "\n",
      "Fold 4\n",
      "Training until validation scores don't improve for 20 rounds\n",
      "Early stopping, best iteration is:\n",
      "[64]\tvalid_0's binary_logloss: 0.371393\n",
      "\n",
      "Fold 5\n",
      "Training until validation scores don't improve for 20 rounds\n",
      "Early stopping, best iteration is:\n",
      "[153]\tvalid_0's binary_logloss: 0.344077\n",
      "\n",
      "LightGBM\n",
      "\tlog loss: 0.362\n",
      "\tgoal diff: -0.134\n",
      "\n",
      "LightGBM + Isotonic\n",
      "\tlog loss: 0.349\n",
      "\tgoal diff: -0.000\n",
      "\n",
      "LightGBM + Sigmoid\n",
      "\tlog loss: 0.365\n",
      "\tgoal diff: 0.007\n",
      "\n"
     ]
    }
   ],
   "source": [
    "from sklearn.model_selection import StratifiedKFold\n",
    "from sklearn.calibration import CalibratedClassifierCV\n",
    "from sklearn.metrics import log_loss\n",
    "\n",
    "# cross validation\n",
    "\n",
    "# initizalize lists contain the results\n",
    "val_scores = np.zeros((3, 5))\n",
    "val_diffs = np.zeros((3, 5))\n",
    "test_scores = np.zeros((3, 5))\n",
    "test_diffs = np.zeros((3, 5))\n",
    "y_test_preds = np.zeros((3, 5, len(X_test))) \n",
    "\n",
    "# define Stratified KFold\n",
    "skf = StratifiedKFold(n_splits=5, shuffle=True, random_state=0)\n",
    "\n",
    "for fold, (train_idx, val_idx) in enumerate(skf.split(X_train, y_train)):\n",
    "    X_train2 = X_train.iloc[train_idx]\n",
    "    X_val = X_train.iloc[val_idx]\n",
    "    y_train2 = y_train.iloc[train_idx]\n",
    "    y_val = y_train.iloc[val_idx]\n",
    "\n",
    "    print('Fold {}'.format(fold + 1))\n",
    "    \n",
    "    # LightGBM\n",
    "    lightgbm = lgbm.LGBMClassifier(\n",
    "                                   objective='binary', \n",
    "                                   n_estimators=10000,\n",
    "                                   random_state=0,\n",
    "                                   **gscv.best_params_,\n",
    "                                   )\n",
    "    lightgbm.fit(X_train2, y_train2,\n",
    "                      eval_set=[(X_val, y_val)],\n",
    "                      early_stopping_rounds=20,\n",
    "                      verbose=-1,\n",
    "                      ) \n",
    "    \n",
    "    y_val_pred = lightgbm.predict_proba(X_val)[:, 1]\n",
    "    y_test_pred = lightgbm.predict_proba(X_test)[:, 1]\n",
    "    val_scores[0, fold] = log_loss(y_val, y_val_pred)\n",
    "    test_scores[0, fold] = log_loss(y_test, y_test_pred)\n",
    "    val_diffs[0, fold] = np.sum(y_val_pred) - np.sum(y_val)\n",
    "    test_diffs[0, fold] = np.sum(y_test_pred) - np.sum(y_test)\n",
    "    y_test_preds[0, fold] = y_test_pred\n",
    "\n",
    "    # isotonic calibration\n",
    "    isotonic = CalibratedClassifierCV(lightgbm, cv='prefit', method='isotonic')\n",
    "    isotonic.fit(X_val, y_val)\n",
    "    \n",
    "    y_val_pred = isotonic.predict_proba(X_val)[:, 1]\n",
    "    y_test_pred = isotonic.predict_proba(X_test)[:, 1]\n",
    "    val_scores[1, fold] = log_loss(y_val, y_val_pred)\n",
    "    test_scores[1, fold] = log_loss(y_test, y_test_pred)\n",
    "    val_diffs[1, fold] = np.sum(y_val_pred) - np.sum(y_val)\n",
    "    test_diffs[1, fold] = np.sum(y_test_pred) - np.sum(y_test)\n",
    "    y_test_preds[1, fold] = y_test_pred\n",
    "\n",
    "    # sigmoid calibration\n",
    "    sigmoid = CalibratedClassifierCV(lightgbm, cv='prefit', method='sigmoid')\n",
    "    sigmoid.fit(X_val, y_val)\n",
    "    \n",
    "    y_val_pred = sigmoid.predict_proba(X_val)[:, 1]\n",
    "    y_test_pred = sigmoid.predict_proba(X_test)[:, 1]\n",
    "    val_scores[2, fold] = log_loss(y_val, y_val_pred)\n",
    "    test_scores[2, fold] = log_loss(y_test, y_test_pred)\n",
    "    val_diffs[2, fold] = np.sum(y_val_pred) - np.sum(y_val)\n",
    "    test_diffs[2, fold] = np.sum(y_test_pred) - np.sum(y_test)\n",
    "    y_test_preds[2, fold] = y_test_pred\n",
    "    print()\n",
    "\n",
    "# compute the average values between folds\n",
    "val_scores = np.mean(val_scores, axis=1)\n",
    "val_diffs = np.mean(val_diffs, axis=1)\n",
    "test_scores = np.mean(test_scores, axis=1)\n",
    "test_diffs = np.mean(test_diffs, axis=1)\n",
    "y_test_preds = np.mean(y_test_preds, axis=1)\n",
    "\n",
    "# model names\n",
    "model_names = ['LightGBM',\n",
    "               'LightGBM + Isotonic',\n",
    "               'LightGBM + Sigmoid',\n",
    "               ]\n",
    "\n",
    "# print the validation resuls \n",
    "for i, model_name in enumerate(model_names): \n",
    "    print(model_name)\n",
    "    print('\\tlog loss: {:.3f}'.format(val_scores[i]))\n",
    "    print('\\tgoal diff: {:.3f}\\n'.format(val_diffs[i]))"
   ]
  },
  {
   "cell_type": "code",
   "execution_count": 12,
   "metadata": {},
   "outputs": [],
   "source": [
    "# specify the model for use \n",
    "model_num = 1 # LightGBM + Isotonic\n",
    "test_score = test_scores[model_num]\n",
    "test_diff = test_diffs[model_num]\n",
    "xg = y_test_preds[model_num] "
   ]
  },
  {
   "cell_type": "code",
   "execution_count": 13,
   "metadata": {},
   "outputs": [
    {
     "name": "stdout",
     "output_type": "stream",
     "text": [
      "log loss: 0.406\n",
      "goal diff: 1.640\n"
     ]
    },
    {
     "data": {
      "image/png": "[encoded data removed]",
      "text/plain": [
       "<Figure size 720x720 with 2 Axes>"
      ]
     },
     "metadata": {
      "needs_background": "light"
     },
     "output_type": "display_data"
    }
   ],
   "source": [
    "from sklearn.calibration import calibration_curve\n",
    "\n",
    "# test\n",
    "\n",
    "# print the test results\n",
    "print('log loss: {:.3f}'.format(test_score))\n",
    "print('goal diff: {:.3f}'.format(test_diff))\n",
    "\n",
    "# plot calibration curve and histgram\n",
    "fig = plt.figure(figsize=(10, 10))\n",
    "ax1 = plt.subplot2grid((3, 1), (0, 0), rowspan=2)\n",
    "ax2 = plt.subplot2grid((3, 1), (2, 0))\n",
    "\n",
    "ax1.plot([0, 1], [0, 1], 'k:', label='Perfectly calibrated')\n",
    "\n",
    "fraction_of_positives, mean_predicted_value = calibration_curve(y_test, xg, n_bins=10)\n",
    "\n",
    "ax1.plot(mean_predicted_value, fraction_of_positives, 's-', label='{} ({:.3f})'.format(model_names[model_num], test_score))\n",
    "\n",
    "ax1.set_ylabel(\"Conversion rate\")\n",
    "ax1.set_ylim([-0.05, 1.05])\n",
    "ax1.set_xticks(np.linspace(0, 1, 11))\n",
    "ax1.set_yticks(np.linspace(0, 1, 11))\n",
    "ax1.legend(loc=\"upper left\")\n",
    "ax1.set_title('Calibration plots')\n",
    "\n",
    "n, bins, patches = ax2.hist(xg, range=(0, 1), bins=10, label=model_names[model_num], histtype='step', lw=2)\n",
    "ax2.set_xlabel(\"Expected goals (xG)\")\n",
    "ax2.set_ylabel(\"Count\")\n",
    "ax2.set_xticks(np.linspace(0, 1, 11))\n",
    "ax2.legend(loc=\"upper center\", ncol=2)\n",
    "\n",
    "plt.tight_layout()\n",
    "plt.show()"
   ]
  },
  {
   "cell_type": "code",
   "execution_count": 14,
   "metadata": {},
   "outputs": [
    {
     "data": {
      "text/plain": [
       "count    521.000000\n",
       "mean       0.156699\n",
       "std        0.154541\n",
       "min        0.008964\n",
       "25%        0.059202\n",
       "50%        0.106956\n",
       "75%        0.208359\n",
       "max        0.980000\n",
       "dtype: float64"
      ]
     },
     "execution_count": 14,
     "metadata": {},
     "output_type": "execute_result"
    }
   ],
   "source": [
    "# print summary statistics of xG\n",
    "pd.Series(xg).describe()"
   ]
  },
  {
   "cell_type": "code",
   "execution_count": 15,
   "metadata": {},
   "outputs": [],
   "source": [
    "# add the 'xg' column to 18/19 season data\n",
    "shots_1819 = shots.iloc[-num_test:].copy()\n",
    "shots_1819['xg'] = xg"
   ]
  },
  {
   "cell_type": "code",
   "execution_count": 16,
   "metadata": {},
   "outputs": [
    {
     "data": {
      "text/plain": [
       "goal            80.00\n",
       "xg              81.64\n",
       "statsbomb_xg    69.50\n",
       "dtype: float64"
      ]
     },
     "execution_count": 16,
     "metadata": {},
     "output_type": "execute_result"
    }
   ],
   "source": [
    "# compare actual goals with the sum of xg or of statsbomb_xg\n",
    "round(shots_1819.loc[:, ['goal', 'xg', 'statsbomb_xg']].sum(), 2)"
   ]
  },
  {
   "cell_type": "code",
   "execution_count": 17,
   "metadata": {},
   "outputs": [],
   "source": [
    "# write shot data with xG values to csv file\n",
    "shots_1819.to_csv('../data/output/shots_1819.csv', index=False, encoding='utf-8')"
   ]
  }
 ],
 "metadata": {
  "kernelspec": {
   "display_name": "Python 3",
   "language": "python",
   "name": "python3"
  },
  "language_info": {
   "codemirror_mode": {
    "name": "ipython",
    "version": 3
   },
   "file_extension": ".py",
   "mimetype": "text/x-python",
   "name": "python",
   "nbconvert_exporter": "python",
   "pygments_lexer": "ipython3",
   "version": "3.7.4"
  }
 },
 "nbformat": 4,
 "nbformat_minor": 2
}